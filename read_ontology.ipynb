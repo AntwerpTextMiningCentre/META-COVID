{
 "cells": [
  {
   "cell_type": "code",
   "execution_count": 12,
   "metadata": {},
   "outputs": [],
   "source": [
    "\n",
    "\n",
    "class Concept:\n",
    "    def __init__(self, concept_name, metadata):\n",
    "        self.name = concept_name\n",
    "        self.metadata = metadata\n",
    "\n",
    "class Topic:\n",
    "    def __init__(self, name):\n",
    "        self.name = name\n",
    "        self.concepts = []\n",
    "\n",
    "    def add_concept(self, concept):\n",
    "        self.concepts.append(concept)\n",
    "\n",
    "class MetaCovidOntology:\n",
    "    def __init__(self, owl_file_path):\n",
    "        from rdflib.namespace import Namespace\n",
    "        \n",
    "        self.owl_file_path = owl_file_path\n",
    "        \n",
    "        # Define namespaces within the class\n",
    "        self.BASE = Namespace(\"http://example.org/metacovid/\")\n",
    "        self.UMLS = Namespace(\"http://example.org/metacovid/UMLS/\")\n",
    "        self.CAP = Namespace(\"http://example.org/metacovid/CAP/\")\n",
    "        self.EUROVOC = Namespace(\"http://example.org/metacovid/Eurovoc/\")\n",
    "        self.METADATA = Namespace(\"http://example.org/metacovid/metadata/\")\n",
    "        \n",
    "        self.metadata = {}\n",
    "        self.topics = []\n",
    "        self._load_data()\n",
    "\n",
    "    def _load_data(self):\n",
    "        from rdflib import Graph, RDF, RDFS, OWL\n",
    "        \n",
    "        g = Graph()\n",
    "        g.parse(self.owl_file_path)\n",
    "\n",
    "        # Extract metadata\n",
    "        for ontology in [\"UMLS\", \"CAP\", \"EuroVoc\"]:\n",
    "            ontology_namespace = None\n",
    "            if ontology == \"UMLS\":\n",
    "                ontology_namespace = self.UMLS[\"Metadata\"]\n",
    "            elif ontology == \"CAP\":\n",
    "                ontology_namespace = self.CAP[\"Metadata\"]\n",
    "            elif ontology == \"EuroVoc\":\n",
    "                ontology_namespace = self.EUROVOC[\"Metadata\"]\n",
    "            \n",
    "            self.metadata[ontology] = {}\n",
    "            for pred, obj in g.predicate_objects(subject=ontology_namespace):\n",
    "                pred_name = str(pred).split(\"/\")[-1]\n",
    "                if pred_name != \"22-rdf-syntax-ns#type\":\n",
    "                    self.metadata[ontology][pred_name] = str(obj)\n",
    "\n",
    "        # Extract topics and associated concepts\n",
    "        for subject in g.subjects(RDF.type, OWL.Class):\n",
    "            topic_name = str(subject).split(\"/\")[-1].replace(\"_\", \" \")\n",
    "            topic_obj = Topic(topic_name)\n",
    "            \n",
    "            for individual in g.subjects(RDF.type, subject):\n",
    "                concept_name = None\n",
    "                concept_metadata = {}\n",
    "                for pred, obj in g.predicate_objects(subject=individual):\n",
    "                    pred_name = str(pred).split(\"/\")[-1]\n",
    "                    # Exclude the '22-rdf-syntax-ns#type' key for concepts as well\n",
    "                    if pred_name != \"22-rdf-syntax-ns#type\":\n",
    "                        if pred == RDFS.label:\n",
    "                            concept_name = str(obj)\n",
    "                        else:\n",
    "                            concept_metadata[pred_name] = str(obj)\n",
    "                                    # Set the ontology to which the concept belongs in its metadata\n",
    "                if \"UMLS\" in str(individual):\n",
    "                    concept_metadata[\"ontology\"] = \"UMLS\"\n",
    "                elif \"CAP\" in str(individual):\n",
    "                    concept_metadata[\"ontology\"] = \"CAP\"\n",
    "                elif \"EuroVoc\" in str(individual):\n",
    "                    concept_metadata[\"ontology\"] = \"EuroVoc\"\n",
    "                \n",
    "                topic_obj.add_concept(Concept(concept_name, concept_metadata))\n",
    "                \n",
    "            # Append the topic to the topics list\n",
    "            self.topics.append(topic_obj)\n",
    "\n",
    "        # sort topics by MC index\n",
    "        resort_indices = sorted(range(len(self.topics)), key=lambda x: int(self.topics[x].name.split(':')[0][2:])) \n",
    "        self.topics = [self.topics[i] for i in resort_indices]\n",
    "\n",
    "    def get_metadata(self):\n",
    "        return self.metadata\n",
    "\n",
    "    def get_topics(self):\n",
    "        return self.topics"
   ]
  },
  {
   "cell_type": "code",
   "execution_count": 13,
   "metadata": {},
   "outputs": [],
   "source": [
    "# Create an instance of MetaCovidOntology class\n",
    "owl_file_path = 'metacovid_ontology.owl'\n",
    "metacovid_ontology = MetaCovidOntology(owl_file_path)\n",
    "\n",
    "# For demonstration purposes, we'll fetch and display the metadata and the name of the first topic\n",
    "demo_metadata = metacovid_ontology.get_metadata()\n",
    "demo_first_topic_name = metacovid_ontology.get_topics()[0].name"
   ]
  },
  {
   "cell_type": "code",
   "execution_count": 14,
   "metadata": {},
   "outputs": [
    {
     "data": {
      "text/plain": [
       "'food price'"
      ]
     },
     "execution_count": 14,
     "metadata": {},
     "output_type": "execute_result"
    }
   ],
   "source": [
    "topics = metacovid_ontology.topics\n",
    "topics\n",
    "topics[0].concepts[3].name"
   ]
  },
  {
   "cell_type": "code",
   "execution_count": 15,
   "metadata": {},
   "outputs": [
    {
     "data": {
      "text/plain": [
       "203"
      ]
     },
     "execution_count": 15,
     "metadata": {},
     "output_type": "execute_result"
    }
   ],
   "source": [
    "sum(len(topic.concepts) for topic in topics)"
   ]
  },
  {
   "cell_type": "code",
   "execution_count": 16,
   "metadata": {},
   "outputs": [
    {
     "data": {
      "text/plain": [
       "{'UMLS': {'Resource_name': 'Unified Medical Language System (UMLS) Metathesaurus',\n",
       "  'Version': '2023AA',\n",
       "  'URL': 'https://www.nlm.nih.gov/research/umls',\n",
       "  'Description': 'The UMLS Metathesaurus is a large biomedical thesaurus that is organized by concept, or meaning. It links synonymous names from over 200 different source vocabularies. The Metathesaurus also identifies useful relationships between concepts and preserves the meanings, concept names, and relationships from each vocabulary.'},\n",
       " 'CAP': {'Resource_name': 'Comparative Agendas Project (CAP): Master Topics Codebook',\n",
       "  'Release': 'Version 1.1',\n",
       "  'URL': 'https://www.comparativeagendas.net/pages/master-codebook',\n",
       "  'Description': 'Observations in Comparative Agendas Project datasets are coded according to the guidelines and topic system described below. This codebook is an updated version of the original codebook created by Baumgartner and Jones.  Each entry is coded into one of 21 major topics and 220 subtopics.  In this codebook, we provide a series of general coding guidelines for classifying observations, a complete list of all major topics and subtopics, and examples of cases coded in each subtopic. Users should note that not all the topic and subtopic numbers are consecutive and that the coding system is hierarchal: each subtopic falls within a single major topic.  Analysts concerned with identifying each case dealing with a particular issue may want to use care in also examining the textual summaries for cases in related subtopics and in the general subtopic, since these can include cases that discuss multiple subtopics.'},\n",
       " 'EuroVoc': {'Resource_name': 'EuroVoc',\n",
       "  'Version': '20230705-0',\n",
       "  'URL': 'https://op.europa.eu/en/web/eu-vocabularies/dataset/-/resource?uri=http://publications.europa.eu/resource/dataset/eurovoc',\n",
       "  'Description': 'EuroVoc is a multilingual, multidisciplinary thesaurus covering the activities of the EU. It contains terms in 24 EU languages (Bulgarian, Croatian, Czech, Danish, Dutch, English, Estonian, Finnish, French, German, Greek, Hungarian, Irish, Italian, Latvian, Lithuanian, Maltese, Polish, Portuguese, Romanian, Slovak, Slovenian, Spanish and Swedish), plus in three languages of countries which are candidate for EU accession: Albanian, Macedonian and Serbian. EuroVoc is managed by the Publications Office of the European Union, which moved forward to ontology-based thesaurus management and semantic web technologies conformant to W3C recommendations as well as latest trends in thesaurus standards. EuroVoc users include the European Union institutions, the Publications Office of the EU, national and regional parliaments in Europe, plus national governments and private users around the world.'}}"
      ]
     },
     "execution_count": 16,
     "metadata": {},
     "output_type": "execute_result"
    }
   ],
   "source": [
    "demo_metadata"
   ]
  },
  {
   "cell_type": "code",
   "execution_count": 17,
   "metadata": {},
   "outputs": [
    {
     "data": {
      "text/plain": [
       "['MC1: Agriculture, Food, & Sustainability',\n",
       " 'MC2: Business Impact & Sector-specific Challenges',\n",
       " 'MC3: Clinical Treatment & Hospital Care',\n",
       " 'MC4: Communication & Information Dissemination',\n",
       " 'MC5: Consumer Behavior & Lifestyle Changes',\n",
       " 'MC6: Defense & National Security',\n",
       " 'MC7: Digital Transformation & Technology',\n",
       " 'MC8: Economic Impact & Recovery',\n",
       " 'MC9: Environment & Climate',\n",
       " 'MC10: Epidemiology & Virus Transmission',\n",
       " 'MC11: Ethics of Healthcare & Treatment',\n",
       " 'MC12: Gender & Minority Groups',\n",
       " 'MC13: Government Policy & Response',\n",
       " 'MC14: International Collaboration & Global Initiatives',\n",
       " 'MC15: Labor & Employment Dynamics',\n",
       " 'MC16: Legal & Human Rights',\n",
       " 'MC17: Media, Public Perception & Culture',\n",
       " 'MC18: Mental Health & Psychological Well-being',\n",
       " 'MC19: Migration & Movement Patterns',\n",
       " 'MC20: Political Implications & Governance',\n",
       " 'MC21: Public Health & Preventative Measures',\n",
       " 'MC22: Research, Innovation & Development',\n",
       " 'MC23: Safety & Security Protocols',\n",
       " 'MC24: Social Relations & Community Dynamics',\n",
       " 'MC25: Supply Chain & Logistics',\n",
       " 'MC26: Testing, Tracing & Monitoring',\n",
       " 'MC27: Travel, Transportation & Mobility',\n",
       " 'MC28: Urban & Rural Dynamics',\n",
       " 'MC29: Vaccination & Immunology',\n",
       " 'MC30: Youth, Education & Learning']"
      ]
     },
     "execution_count": 17,
     "metadata": {},
     "output_type": "execute_result"
    }
   ],
   "source": [
    "[concept.name for concept in metacovid_ontology.topics]"
   ]
  },
  {
   "cell_type": "code",
   "execution_count": 20,
   "metadata": {},
   "outputs": [
    {
     "data": {
      "text/plain": [
       "'MC1: Agriculture, Food, & Sustainability'"
      ]
     },
     "execution_count": 20,
     "metadata": {},
     "output_type": "execute_result"
    }
   ],
   "source": [
    "topics[0].name"
   ]
  },
  {
   "cell_type": "code",
   "execution_count": null,
   "metadata": {},
   "outputs": [],
   "source": []
  }
 ],
 "metadata": {
  "kernelspec": {
   "display_name": "random",
   "language": "python",
   "name": "python3"
  },
  "language_info": {
   "codemirror_mode": {
    "name": "ipython",
    "version": 3
   },
   "file_extension": ".py",
   "mimetype": "text/x-python",
   "name": "python",
   "nbconvert_exporter": "python",
   "pygments_lexer": "ipython3",
   "version": "3.9.13"
  }
 },
 "nbformat": 4,
 "nbformat_minor": 2
}
